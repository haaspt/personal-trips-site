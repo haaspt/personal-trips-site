{
 "cells": [
  {
   "cell_type": "code",
   "execution_count": 1,
   "metadata": {},
   "outputs": [],
   "source": [
    "import pandas as pd\n",
    "from collections import OrderedDict\n",
    "import csv\n",
    "import json\n",
    "import xml.etree.ElementTree as ET \n",
    "from datetime import datetime\n",
    "import pytz"
   ]
  },
  {
   "cell_type": "code",
   "execution_count": 2,
   "metadata": {},
   "outputs": [],
   "source": [
    "## Utils\n",
    "\n",
    "def convert_timestamp_offset(timestamp):\n",
    "    dt = datetime.utcfromtimestamp(int(timestamp))\n",
    "    midnight = dt.replace(hour=0, minute=0, second=0, microsecond=0)\n",
    "    delta = dt - dt.replace(hour=0, minute=0, second=0, microsecond=0)\n",
    "    return delta.seconds\n"
   ]
  },
  {
   "cell_type": "code",
   "execution_count": 3,
   "metadata": {},
   "outputs": [],
   "source": [
    "## Strava data\n",
    "\n",
    "VALID_FILE_EXT = '.gpx'\n",
    "BASE_PATH = 'raw/strava_data/'\n",
    "DATE_FMT = '%Y-%m-%dT%H:%M:%SZ'\n",
    "\n",
    "def parse_gpx(filename):\n",
    "    xmlfile = filename\n",
    "    NS = '{http://www.topografix.com/GPX/1/1}'\n",
    "\n",
    "    tree = ET.parse(xmlfile)\n",
    "    root = tree.getroot()\n",
    "    \n",
    "    points = []\n",
    "    for point in root.iter('{}trkpt'.format(NS)):\n",
    "        timestamp = datetime.strptime(point.find('{}time'.format(NS)).text, DATE_FMT).strftime('%s')\n",
    "        point_data = {\n",
    "            'lat': point.get('lat'),\n",
    "            'long': point.get('lon'),\n",
    "            'time': timestamp,\n",
    "            'offset': convert_timestamp_offset(timestamp),\n",
    "            'type': 'strava'\n",
    "        }\n",
    "\n",
    "        points.append(point_data)\n",
    "\n",
    "    return points\n",
    "\n",
    "with open(BASE_PATH + 'activities.csv', 'r') as infile:\n",
    "    reader = csv.DictReader(infile)\n",
    "    strava_lookup_data = [row for row in reader]\n",
    "\n",
    "valid_filenames = [row['filename'] for row in strava_lookup_data if VALID_FILE_EXT in row['filename'] and row['commute'] == 'true']\n",
    "\n",
    "strava_parsed_data = OrderedDict()\n",
    "for index, filename in enumerate(valid_filenames):\n",
    "    parsed_data = parse_gpx(BASE_PATH + filename)\n",
    "    strava_parsed_data[index] = parsed_data"
   ]
  },
  {
   "cell_type": "code",
   "execution_count": 4,
   "metadata": {},
   "outputs": [],
   "source": [
    "## Scoot data\n",
    "\n",
    "FILEPATH = 'raw/scoot-data/pthaas_ride_traces.csv'\n",
    "DATE_FMT = '%Y-%m-%d %H:%M:%S'\n",
    "\n",
    "with open(FILEPATH, 'r') as infile:\n",
    "    reader = csv.DictReader(infile)\n",
    "    scoot_data = [row for row in reader]\n",
    "    \n",
    "scoot_parsed_data = OrderedDict()\n",
    "for row in scoot_data:\n",
    "    ride_id = row['ride_id']\n",
    "    timestamp = datetime.strptime(row['scu_timestamp'], DATE_FMT).strftime('%s')\n",
    "    point_data = {\n",
    "        'lat': row['latitude'],\n",
    "        'long': row['longitude'],\n",
    "        'time': timestamp,\n",
    "        'offset': convert_timestamp_offset(timestamp),\n",
    "        'type': 'scoot'\n",
    "    }\n",
    "    if ride_id in scoot_parsed_data.keys():\n",
    "        scoot_parsed_data[ride_id].append(point_data)\n",
    "    else:\n",
    "        scoot_parsed_data[ride_id] = [point_data]"
   ]
  },
  {
   "cell_type": "code",
   "execution_count": 8,
   "metadata": {},
   "outputs": [],
   "source": [
    "segments = []\n",
    "for _, item in strava_parsed_data.items():\n",
    "    segments.append(item)\n",
    "    \n",
    "for _, item in scoot_parsed_data.items():\n",
    "    segments.append(item)\n",
    "\n",
    "parsed_trips = []\n",
    "for trip in segments:\n",
    "    trip_data = {}\n",
    "    trip_data['type'] = trip[0]['type']\n",
    "    segment_data = []\n",
    "    for segment in trip:\n",
    "        data = [segment['long'], segment['lat'], segment['offset']]\n",
    "        segment_data.append(data)\n",
    "    trip_data['segments'] = segment_data\n",
    "    parsed_trips.append(trip_data)\n",
    "    \n",
    "with open('trip_data.json', 'w') as outfile:\n",
    "    json.dump(parsed_trips, outfile)"
   ]
  },
  {
   "cell_type": "code",
   "execution_count": null,
   "metadata": {},
   "outputs": [],
   "source": []
  }
 ],
 "metadata": {
  "kernelspec": {
   "display_name": "Python 3",
   "language": "python",
   "name": "python3"
  },
  "language_info": {
   "codemirror_mode": {
    "name": "ipython",
    "version": 3
   },
   "file_extension": ".py",
   "mimetype": "text/x-python",
   "name": "python",
   "nbconvert_exporter": "python",
   "pygments_lexer": "ipython3",
   "version": "3.7.1"
  }
 },
 "nbformat": 4,
 "nbformat_minor": 2
}
